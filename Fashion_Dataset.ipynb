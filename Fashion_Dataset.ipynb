{
  "nbformat": 4,
  "nbformat_minor": 0,
  "metadata": {
    "colab": {
      "provenance": [],
      "authorship_tag": "ABX9TyPIIzOny+cJvPXOH+8k6soZ",
      "include_colab_link": true
    },
    "kernelspec": {
      "name": "python3",
      "display_name": "Python 3"
    },
    "language_info": {
      "name": "python"
    }
  },
  "cells": [
    {
      "cell_type": "markdown",
      "metadata": {
        "id": "view-in-github",
        "colab_type": "text"
      },
      "source": [
        "<a href=\"https://colab.research.google.com/github/Sania313/Fashion_Dataset-Training-Tensorflow/blob/main/Fashion_Dataset.ipynb\" target=\"_parent\"><img src=\"https://colab.research.google.com/assets/colab-badge.svg\" alt=\"Open In Colab\"/></a>"
      ]
    },
    {
      "cell_type": "code",
      "execution_count": 2,
      "metadata": {
        "colab": {
          "base_uri": "https://localhost:8080/",
          "height": 941
        },
        "id": "qTIe-I-IPOda",
        "outputId": "9e14690f-5105-49b0-befc-9f9d9445fd23"
      },
      "outputs": [
        {
          "output_type": "stream",
          "name": "stdout",
          "text": [
            "Epoch 1/12\n",
            "1875/1875 [==============================] - 6s 3ms/step - loss: 3.5486 - accuracy: 0.6932\n",
            "Epoch 2/12\n",
            "1875/1875 [==============================] - 7s 4ms/step - loss: 0.7133 - accuracy: 0.7327\n",
            "Epoch 3/12\n",
            "1875/1875 [==============================] - 6s 3ms/step - loss: 0.6057 - accuracy: 0.7837\n",
            "Epoch 4/12\n",
            "1875/1875 [==============================] - 13s 7ms/step - loss: 0.5393 - accuracy: 0.8160\n",
            "Epoch 5/12\n",
            "1875/1875 [==============================] - 9s 5ms/step - loss: 0.5155 - accuracy: 0.8270\n",
            "Epoch 6/12\n",
            "1875/1875 [==============================] - 7s 4ms/step - loss: 0.4869 - accuracy: 0.8349\n",
            "Epoch 7/12\n",
            "1875/1875 [==============================] - 6s 3ms/step - loss: 0.4885 - accuracy: 0.8342\n",
            "Epoch 8/12\n",
            "1875/1875 [==============================] - 7s 4ms/step - loss: 0.4787 - accuracy: 0.8388\n",
            "Epoch 9/12\n",
            "1875/1875 [==============================] - 6s 3ms/step - loss: 0.4641 - accuracy: 0.8426\n",
            "Epoch 10/12\n",
            "1875/1875 [==============================] - 7s 4ms/step - loss: 0.4693 - accuracy: 0.8440\n",
            "Epoch 11/12\n",
            "1875/1875 [==============================] - 6s 3ms/step - loss: 0.4492 - accuracy: 0.8485\n",
            "Epoch 12/12\n",
            "1875/1875 [==============================] - 7s 4ms/step - loss: 0.4478 - accuracy: 0.8498\n",
            "313/313 [==============================] - 1s 2ms/step - loss: 2.6547 - accuracy: 0.1138\n",
            "Tested Accuracy 0.11379999667406082\n",
            "313/313 [==============================] - 1s 2ms/step\n"
          ]
        },
        {
          "output_type": "display_data",
          "data": {
            "text/plain": [
              "<Figure size 640x480 with 1 Axes>"
            ],
            "image/png": "[encoded data removed]"
          },
          "metadata": {}
        }
      ],
      "source": [
        "import tensorflow as tf\n",
        "from tensorflow import keras\n",
        "import numpy as np\n",
        "import matplotlib.pyplot as plt\n",
        "\n",
        "data = keras.datasets.fashion_mnist\n",
        "(train_images, train_labels), (test_images, test_labels) = data.load_data()\n",
        "\n",
        "class_names = ['T-shirt/top', 'Trouser', 'Pullover', 'Dress', 'Coat',\n",
        "               'Sandal', 'Shirt', 'Sneaker', 'Bag', 'Ankle boot']\n",
        "train_iamges = train_images/255.0\n",
        "test_images= test_images/255.0\n",
        "model = keras.Sequential([\n",
        "    keras.layers.Flatten(input_shape=(28,28)),\n",
        "    keras.layers.Dense(128,activation='relu'),\n",
        "    keras.layers.Dense(10, activation='softmax')\n",
        "])\n",
        "model.compile(optimizer='adam', loss= 'sparse_categorical_crossentropy', metrics=['accuracy'])\n",
        "model.fit(train_images, train_labels, epochs=12)\n",
        "test_loss, test_accuracy = model.evaluate(test_images, test_labels)\n",
        "print(\"Tested Accuracy\", test_accuracy)\n",
        "prediction = model.predict(test_images)\n",
        "for i in range(1):\n",
        "  plt.grid(False)\n",
        "  plt.imshow(test_images[i], cmap= plt.cm.binary)\n",
        "  plt.xlabel(\"Actual: \" + class_names[test_labels[i]])\n",
        "  plt.title(\"Prediction: \" + class_names[np.argmax(prediction[i])])\n",
        "  plt.show()"
      ]
    }
  ]
}